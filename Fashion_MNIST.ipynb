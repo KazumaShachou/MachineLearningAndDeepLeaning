{
  "nbformat": 4,
  "nbformat_minor": 0,
  "metadata": {
    "colab": {
      "name": "Fashion_MNIST.ipynb",
      "provenance": [],
      "collapsed_sections": [],
      "authorship_tag": "ABX9TyMfuVmRUznycYX55Y36fqda",
      "include_colab_link": true
    },
    "kernelspec": {
      "name": "python3",
      "display_name": "Python 3"
    },
    "accelerator": "GPU"
  },
  "cells": [
    {
      "cell_type": "markdown",
      "metadata": {
        "id": "view-in-github",
        "colab_type": "text"
      },
      "source": [
        "<a href=\"https://colab.research.google.com/github/KazumaShachou/MachineLearningAndDeepLeaning/blob/master/Fashion_MNIST.ipynb\" target=\"_parent\"><img src=\"https://colab.research.google.com/assets/colab-badge.svg\" alt=\"Open In Colab\"/></a>"
      ]
    },
    {
      "cell_type": "code",
      "metadata": {
        "id": "uR-DRnhjSjKi",
        "colab": {
          "base_uri": "https://localhost:8080/",
          "height": 35
        },
        "outputId": "3223b19c-5ddc-4984-aaf6-ffb150d44976"
      },
      "source": [
        "import tensorflow as tf\n",
        "from tensorflow import keras\n",
        "\n",
        "tf.__version__"
      ],
      "execution_count": 2,
      "outputs": [
        {
          "output_type": "execute_result",
          "data": {
            "application/vnd.google.colaboratory.intrinsic+json": {
              "type": "string"
            },
            "text/plain": [
              "'2.3.0'"
            ]
          },
          "metadata": {
            "tags": []
          },
          "execution_count": 2
        }
      ]
    },
    {
      "cell_type": "code",
      "metadata": {
        "colab": {
          "base_uri": "https://localhost:8080/"
        },
        "id": "AdIq4rOpfVbL",
        "outputId": "039f806c-fcca-4ffd-92fb-9596524c16df"
      },
      "source": [
        "fashion_mnist = keras.datasets.fashion_mnist\n",
        "(x_train_full, y_train_full ),(x_test, y_test) = fashion_mnist.load_data()"
      ],
      "execution_count": 3,
      "outputs": [
        {
          "output_type": "stream",
          "text": [
            "Downloading data from https://storage.googleapis.com/tensorflow/tf-keras-datasets/train-labels-idx1-ubyte.gz\n",
            "32768/29515 [=================================] - 0s 0us/step\n",
            "Downloading data from https://storage.googleapis.com/tensorflow/tf-keras-datasets/train-images-idx3-ubyte.gz\n",
            "26427392/26421880 [==============================] - 0s 0us/step\n",
            "Downloading data from https://storage.googleapis.com/tensorflow/tf-keras-datasets/t10k-labels-idx1-ubyte.gz\n",
            "8192/5148 [===============================================] - 0s 0us/step\n",
            "Downloading data from https://storage.googleapis.com/tensorflow/tf-keras-datasets/t10k-images-idx3-ubyte.gz\n",
            "4423680/4422102 [==============================] - 0s 0us/step\n"
          ],
          "name": "stdout"
        }
      ]
    },
    {
      "cell_type": "code",
      "metadata": {
        "colab": {
          "base_uri": "https://localhost:8080/"
        },
        "id": "80IpULePgIr7",
        "outputId": "45691d46-4943-474e-97ab-ed33ffaaeda8"
      },
      "source": [
        "#in fashion mnist every image is represented as a 28×28\n",
        "x_train_full.shape"
      ],
      "execution_count": 4,
      "outputs": [
        {
          "output_type": "execute_result",
          "data": {
            "text/plain": [
              "(60000, 28, 28)"
            ]
          },
          "metadata": {
            "tags": []
          },
          "execution_count": 4
        }
      ]
    },
    {
      "cell_type": "code",
      "metadata": {
        "colab": {
          "base_uri": "https://localhost:8080/"
        },
        "id": "JykrjFaZgZeT",
        "outputId": "ef5617cf-8dc0-49fa-a2a1-bcdbccf3b955"
      },
      "source": [
        "x_train_full.dtype"
      ],
      "execution_count": 5,
      "outputs": [
        {
          "output_type": "execute_result",
          "data": {
            "text/plain": [
              "dtype('uint8')"
            ]
          },
          "metadata": {
            "tags": []
          },
          "execution_count": 5
        }
      ]
    },
    {
      "cell_type": "code",
      "metadata": {
        "id": "Oa0VsDF5gfcL"
      },
      "source": [
        "x_valid, x_train = x_train_full[:5000]/ 255.0, x_train_full[5000:]/ 255.0\n",
        "y_valid, y_train = y_train_full[:5000] , y_train_full[5000:]"
      ],
      "execution_count": 6,
      "outputs": []
    },
    {
      "cell_type": "code",
      "metadata": {
        "id": "FTWzUCVahJFS"
      },
      "source": [
        "class_names = [\"T-shirt/top\", \"Trouser\", \"Pullover\", \"Dress\", \"Coat\", \"Sandal\", \"Shirt\", \"Sneaker\", \"Bag\", \"Ankle boot\"]"
      ],
      "execution_count": 7,
      "outputs": []
    },
    {
      "cell_type": "code",
      "metadata": {
        "colab": {
          "base_uri": "https://localhost:8080/",
          "height": 35
        },
        "id": "oFIY0UUZhP16",
        "outputId": "224081fa-42a6-428b-e1bf-354e6e90ec81"
      },
      "source": [
        "class_names[y_train[0]]"
      ],
      "execution_count": 8,
      "outputs": [
        {
          "output_type": "execute_result",
          "data": {
            "application/vnd.google.colaboratory.intrinsic+json": {
              "type": "string"
            },
            "text/plain": [
              "'Coat'"
            ]
          },
          "metadata": {
            "tags": []
          },
          "execution_count": 8
        }
      ]
    },
    {
      "cell_type": "code",
      "metadata": {
        "id": "9mF-Sxv0hdfy"
      },
      "source": [
        "#Model Using the Sequential API\n",
        "model = keras.models.Sequential()\n",
        "model.add(keras.layers.Flatten(input_shape=[28, 28]))\n",
        "model.add(keras.layers.Dense(500, activation='relu'))\n",
        "model.add(keras.layers.Dense(600, activation='relu'))\n",
        "model.add(keras.layers.Dense(765, activation='relu'))\n",
        "model.add(keras.layers.Dense(150, activation = 'relu'))\n",
        "model.add(keras.layers.Dense(40, activation='softmax'))"
      ],
      "execution_count": 9,
      "outputs": []
    },
    {
      "cell_type": "code",
      "metadata": {
        "colab": {
          "base_uri": "https://localhost:8080/"
        },
        "id": "85jAPjEmiTSN",
        "outputId": "b17d8bf0-0b8e-453e-fc5c-59ab9dbdf5f7"
      },
      "source": [
        "#the model runs the risk of overfitting, don't have trainable params now, so we need change this\n",
        "model.summary()"
      ],
      "execution_count": 10,
      "outputs": [
        {
          "output_type": "stream",
          "text": [
            "Model: \"sequential\"\n",
            "_________________________________________________________________\n",
            "Layer (type)                 Output Shape              Param #   \n",
            "=================================================================\n",
            "flatten (Flatten)            (None, 784)               0         \n",
            "_________________________________________________________________\n",
            "dense (Dense)                (None, 500)               392500    \n",
            "_________________________________________________________________\n",
            "dense_1 (Dense)              (None, 600)               300600    \n",
            "_________________________________________________________________\n",
            "dense_2 (Dense)              (None, 765)               459765    \n",
            "_________________________________________________________________\n",
            "dense_3 (Dense)              (None, 150)               114900    \n",
            "_________________________________________________________________\n",
            "dense_4 (Dense)              (None, 40)                6040      \n",
            "=================================================================\n",
            "Total params: 1,273,805\n",
            "Trainable params: 1,273,805\n",
            "Non-trainable params: 0\n",
            "_________________________________________________________________\n"
          ],
          "name": "stdout"
        }
      ]
    },
    {
      "cell_type": "code",
      "metadata": {
        "colab": {
          "base_uri": "https://localhost:8080/"
        },
        "id": "8waXemODkRhi",
        "outputId": "7a789c50-1e37-4edc-f42f-f97a4145072f"
      },
      "source": [
        "model.layers"
      ],
      "execution_count": 11,
      "outputs": [
        {
          "output_type": "execute_result",
          "data": {
            "text/plain": [
              "[<tensorflow.python.keras.layers.core.Flatten at 0x7f0afc745358>,\n",
              " <tensorflow.python.keras.layers.core.Dense at 0x7f0afc745cf8>,\n",
              " <tensorflow.python.keras.layers.core.Dense at 0x7f0acbed04a8>,\n",
              " <tensorflow.python.keras.layers.core.Dense at 0x7f0afc747588>,\n",
              " <tensorflow.python.keras.layers.core.Dense at 0x7f0ac9286dd8>,\n",
              " <tensorflow.python.keras.layers.core.Dense at 0x7f0a6c3ea8d0>]"
            ]
          },
          "metadata": {
            "tags": []
          },
          "execution_count": 11
        }
      ]
    },
    {
      "cell_type": "code",
      "metadata": {
        "colab": {
          "base_uri": "https://localhost:8080/",
          "height": 35
        },
        "id": "uxAwmvcEmRta",
        "outputId": "83b074b9-4391-4db7-8987-1f38e2d2b315"
      },
      "source": [
        "model.layers[1].name"
      ],
      "execution_count": 12,
      "outputs": [
        {
          "output_type": "execute_result",
          "data": {
            "application/vnd.google.colaboratory.intrinsic+json": {
              "type": "string"
            },
            "text/plain": [
              "'dense'"
            ]
          },
          "metadata": {
            "tags": []
          },
          "execution_count": 12
        }
      ]
    },
    {
      "cell_type": "code",
      "metadata": {
        "colab": {
          "base_uri": "https://localhost:8080/"
        },
        "id": "kGonWoswmyB5",
        "outputId": "c0a5d7ec-25f3-4190-b61f-ed6fbc6a1bb2"
      },
      "source": [
        "weights, biases = model.layers[1].get_weights()\n",
        "weights"
      ],
      "execution_count": 13,
      "outputs": [
        {
          "output_type": "execute_result",
          "data": {
            "text/plain": [
              "array([[-0.01354812, -0.00671787,  0.02214655, ...,  0.02109221,\n",
              "        -0.01314471, -0.04286741],\n",
              "       [-0.03487934, -0.06813908,  0.02065484, ...,  0.03467772,\n",
              "        -0.03655472,  0.00875601],\n",
              "       [ 0.01710715,  0.03770436,  0.0554769 , ..., -0.00909793,\n",
              "        -0.06177099,  0.04054441],\n",
              "       ...,\n",
              "       [ 0.01594512,  0.00028888, -0.04888004, ..., -0.00373524,\n",
              "        -0.0619273 ,  0.02198216],\n",
              "       [-0.00913693, -0.03647077, -0.04784844, ...,  0.00137716,\n",
              "        -0.03210088, -0.00821583],\n",
              "       [-0.00985109, -0.05756483, -0.00320009, ...,  0.0678857 ,\n",
              "         0.04832718,  0.02665135]], dtype=float32)"
            ]
          },
          "metadata": {
            "tags": []
          },
          "execution_count": 13
        }
      ]
    },
    {
      "cell_type": "code",
      "metadata": {
        "colab": {
          "base_uri": "https://localhost:8080/"
        },
        "id": "UgaRgxITnQtZ",
        "outputId": "49ee0be1-424c-4833-d828-92cdb1c0330e"
      },
      "source": [
        "weights.shape"
      ],
      "execution_count": 14,
      "outputs": [
        {
          "output_type": "execute_result",
          "data": {
            "text/plain": [
              "(784, 500)"
            ]
          },
          "metadata": {
            "tags": []
          },
          "execution_count": 14
        }
      ]
    },
    {
      "cell_type": "code",
      "metadata": {
        "colab": {
          "base_uri": "https://localhost:8080/"
        },
        "id": "43NjggyXonyh",
        "outputId": "47f55bc0-0068-44f7-e74c-e9073486c988"
      },
      "source": [
        "biases"
      ],
      "execution_count": 15,
      "outputs": [
        {
          "output_type": "execute_result",
          "data": {
            "text/plain": [
              "array([0., 0., 0., 0., 0., 0., 0., 0., 0., 0., 0., 0., 0., 0., 0., 0., 0.,\n",
              "       0., 0., 0., 0., 0., 0., 0., 0., 0., 0., 0., 0., 0., 0., 0., 0., 0.,\n",
              "       0., 0., 0., 0., 0., 0., 0., 0., 0., 0., 0., 0., 0., 0., 0., 0., 0.,\n",
              "       0., 0., 0., 0., 0., 0., 0., 0., 0., 0., 0., 0., 0., 0., 0., 0., 0.,\n",
              "       0., 0., 0., 0., 0., 0., 0., 0., 0., 0., 0., 0., 0., 0., 0., 0., 0.,\n",
              "       0., 0., 0., 0., 0., 0., 0., 0., 0., 0., 0., 0., 0., 0., 0., 0., 0.,\n",
              "       0., 0., 0., 0., 0., 0., 0., 0., 0., 0., 0., 0., 0., 0., 0., 0., 0.,\n",
              "       0., 0., 0., 0., 0., 0., 0., 0., 0., 0., 0., 0., 0., 0., 0., 0., 0.,\n",
              "       0., 0., 0., 0., 0., 0., 0., 0., 0., 0., 0., 0., 0., 0., 0., 0., 0.,\n",
              "       0., 0., 0., 0., 0., 0., 0., 0., 0., 0., 0., 0., 0., 0., 0., 0., 0.,\n",
              "       0., 0., 0., 0., 0., 0., 0., 0., 0., 0., 0., 0., 0., 0., 0., 0., 0.,\n",
              "       0., 0., 0., 0., 0., 0., 0., 0., 0., 0., 0., 0., 0., 0., 0., 0., 0.,\n",
              "       0., 0., 0., 0., 0., 0., 0., 0., 0., 0., 0., 0., 0., 0., 0., 0., 0.,\n",
              "       0., 0., 0., 0., 0., 0., 0., 0., 0., 0., 0., 0., 0., 0., 0., 0., 0.,\n",
              "       0., 0., 0., 0., 0., 0., 0., 0., 0., 0., 0., 0., 0., 0., 0., 0., 0.,\n",
              "       0., 0., 0., 0., 0., 0., 0., 0., 0., 0., 0., 0., 0., 0., 0., 0., 0.,\n",
              "       0., 0., 0., 0., 0., 0., 0., 0., 0., 0., 0., 0., 0., 0., 0., 0., 0.,\n",
              "       0., 0., 0., 0., 0., 0., 0., 0., 0., 0., 0., 0., 0., 0., 0., 0., 0.,\n",
              "       0., 0., 0., 0., 0., 0., 0., 0., 0., 0., 0., 0., 0., 0., 0., 0., 0.,\n",
              "       0., 0., 0., 0., 0., 0., 0., 0., 0., 0., 0., 0., 0., 0., 0., 0., 0.,\n",
              "       0., 0., 0., 0., 0., 0., 0., 0., 0., 0., 0., 0., 0., 0., 0., 0., 0.,\n",
              "       0., 0., 0., 0., 0., 0., 0., 0., 0., 0., 0., 0., 0., 0., 0., 0., 0.,\n",
              "       0., 0., 0., 0., 0., 0., 0., 0., 0., 0., 0., 0., 0., 0., 0., 0., 0.,\n",
              "       0., 0., 0., 0., 0., 0., 0., 0., 0., 0., 0., 0., 0., 0., 0., 0., 0.,\n",
              "       0., 0., 0., 0., 0., 0., 0., 0., 0., 0., 0., 0., 0., 0., 0., 0., 0.,\n",
              "       0., 0., 0., 0., 0., 0., 0., 0., 0., 0., 0., 0., 0., 0., 0., 0., 0.,\n",
              "       0., 0., 0., 0., 0., 0., 0., 0., 0., 0., 0., 0., 0., 0., 0., 0., 0.,\n",
              "       0., 0., 0., 0., 0., 0., 0., 0., 0., 0., 0., 0., 0., 0., 0., 0., 0.,\n",
              "       0., 0., 0., 0., 0., 0., 0., 0., 0., 0., 0., 0., 0., 0., 0., 0., 0.,\n",
              "       0., 0., 0., 0., 0., 0., 0.], dtype=float32)"
            ]
          },
          "metadata": {
            "tags": []
          },
          "execution_count": 15
        }
      ]
    },
    {
      "cell_type": "code",
      "metadata": {
        "colab": {
          "base_uri": "https://localhost:8080/"
        },
        "id": "vxMCsYPGopGQ",
        "outputId": "feb38591-9689-4c26-bb55-f2f0e598d068"
      },
      "source": [
        "biases.shape"
      ],
      "execution_count": 16,
      "outputs": [
        {
          "output_type": "execute_result",
          "data": {
            "text/plain": [
              "(500,)"
            ]
          },
          "metadata": {
            "tags": []
          },
          "execution_count": 16
        }
      ]
    },
    {
      "cell_type": "code",
      "metadata": {
        "id": "8g354hCnor8Z"
      },
      "source": [
        " #Compiling the Model\n",
        " model.compile(loss = 'sparse_categorical_crossentropy', optimizer='sgd', metrics=['accuracy'])"
      ],
      "execution_count": 17,
      "outputs": []
    },
    {
      "cell_type": "code",
      "metadata": {
        "colab": {
          "base_uri": "https://localhost:8080/"
        },
        "id": "KTCm3ZvAsGu4",
        "outputId": "71cb694e-8f02-4da2-c09d-8ea2a7636007"
      },
      "source": [
        "history = model.fit(x_train, y_train, epochs=50, validation_data=(x_valid, y_valid))"
      ],
      "execution_count": 18,
      "outputs": [
        {
          "output_type": "stream",
          "text": [
            "Epoch 1/50\n",
            "1719/1719 [==============================] - 4s 3ms/step - loss: 0.7864 - accuracy: 0.7464 - val_loss: 0.4963 - val_accuracy: 0.8276\n",
            "Epoch 2/50\n",
            "1719/1719 [==============================] - 4s 2ms/step - loss: 0.4745 - accuracy: 0.8326 - val_loss: 0.5013 - val_accuracy: 0.8168\n",
            "Epoch 3/50\n",
            "1719/1719 [==============================] - 4s 2ms/step - loss: 0.4208 - accuracy: 0.8497 - val_loss: 0.4057 - val_accuracy: 0.8592\n",
            "Epoch 4/50\n",
            "1719/1719 [==============================] - 4s 2ms/step - loss: 0.3869 - accuracy: 0.8609 - val_loss: 0.3832 - val_accuracy: 0.8602\n",
            "Epoch 5/50\n",
            "1719/1719 [==============================] - 4s 2ms/step - loss: 0.3628 - accuracy: 0.8699 - val_loss: 0.3624 - val_accuracy: 0.8728\n",
            "Epoch 6/50\n",
            "1719/1719 [==============================] - 4s 3ms/step - loss: 0.3440 - accuracy: 0.8754 - val_loss: 0.3464 - val_accuracy: 0.8776\n",
            "Epoch 7/50\n",
            "1719/1719 [==============================] - 4s 2ms/step - loss: 0.3288 - accuracy: 0.8797 - val_loss: 0.3577 - val_accuracy: 0.8714\n",
            "Epoch 8/50\n",
            "1719/1719 [==============================] - 4s 2ms/step - loss: 0.3148 - accuracy: 0.8847 - val_loss: 0.3300 - val_accuracy: 0.8810\n",
            "Epoch 9/50\n",
            "1719/1719 [==============================] - 4s 2ms/step - loss: 0.3029 - accuracy: 0.8890 - val_loss: 0.3268 - val_accuracy: 0.8824\n",
            "Epoch 10/50\n",
            "1719/1719 [==============================] - 4s 2ms/step - loss: 0.2921 - accuracy: 0.8922 - val_loss: 0.3166 - val_accuracy: 0.8882\n",
            "Epoch 11/50\n",
            "1719/1719 [==============================] - 4s 2ms/step - loss: 0.2823 - accuracy: 0.8958 - val_loss: 0.3266 - val_accuracy: 0.8814\n",
            "Epoch 12/50\n",
            "1719/1719 [==============================] - 4s 2ms/step - loss: 0.2728 - accuracy: 0.9004 - val_loss: 0.3128 - val_accuracy: 0.8870\n",
            "Epoch 13/50\n",
            "1719/1719 [==============================] - 4s 2ms/step - loss: 0.2653 - accuracy: 0.9009 - val_loss: 0.3072 - val_accuracy: 0.8874\n",
            "Epoch 14/50\n",
            "1719/1719 [==============================] - 4s 3ms/step - loss: 0.2558 - accuracy: 0.9047 - val_loss: 0.3128 - val_accuracy: 0.8852\n",
            "Epoch 15/50\n",
            "1719/1719 [==============================] - 5s 3ms/step - loss: 0.2481 - accuracy: 0.9082 - val_loss: 0.3066 - val_accuracy: 0.8918\n",
            "Epoch 16/50\n",
            "1719/1719 [==============================] - 5s 3ms/step - loss: 0.2413 - accuracy: 0.9111 - val_loss: 0.3070 - val_accuracy: 0.8932\n",
            "Epoch 17/50\n",
            "1719/1719 [==============================] - 5s 3ms/step - loss: 0.2334 - accuracy: 0.9132 - val_loss: 0.2968 - val_accuracy: 0.8936\n",
            "Epoch 18/50\n",
            "1719/1719 [==============================] - 4s 2ms/step - loss: 0.2270 - accuracy: 0.9166 - val_loss: 0.3040 - val_accuracy: 0.8868\n",
            "Epoch 19/50\n",
            "1719/1719 [==============================] - 4s 2ms/step - loss: 0.2213 - accuracy: 0.9195 - val_loss: 0.3113 - val_accuracy: 0.8870\n",
            "Epoch 20/50\n",
            "1719/1719 [==============================] - 4s 3ms/step - loss: 0.2144 - accuracy: 0.9212 - val_loss: 0.3112 - val_accuracy: 0.8872\n",
            "Epoch 21/50\n",
            "1719/1719 [==============================] - 4s 2ms/step - loss: 0.2098 - accuracy: 0.9223 - val_loss: 0.2891 - val_accuracy: 0.8956\n",
            "Epoch 22/50\n",
            "1719/1719 [==============================] - 4s 2ms/step - loss: 0.2014 - accuracy: 0.9271 - val_loss: 0.2977 - val_accuracy: 0.8912\n",
            "Epoch 23/50\n",
            "1719/1719 [==============================] - 4s 2ms/step - loss: 0.1966 - accuracy: 0.9276 - val_loss: 0.2873 - val_accuracy: 0.8894\n",
            "Epoch 24/50\n",
            "1719/1719 [==============================] - 4s 2ms/step - loss: 0.1912 - accuracy: 0.9288 - val_loss: 0.3058 - val_accuracy: 0.8874\n",
            "Epoch 25/50\n",
            "1719/1719 [==============================] - 4s 2ms/step - loss: 0.1857 - accuracy: 0.9326 - val_loss: 0.3107 - val_accuracy: 0.8954\n",
            "Epoch 26/50\n",
            "1719/1719 [==============================] - 4s 2ms/step - loss: 0.1801 - accuracy: 0.9345 - val_loss: 0.3063 - val_accuracy: 0.8908\n",
            "Epoch 27/50\n",
            "1719/1719 [==============================] - 4s 2ms/step - loss: 0.1743 - accuracy: 0.9348 - val_loss: 0.2942 - val_accuracy: 0.8984\n",
            "Epoch 28/50\n",
            "1719/1719 [==============================] - 4s 2ms/step - loss: 0.1707 - accuracy: 0.9367 - val_loss: 0.2912 - val_accuracy: 0.9012\n",
            "Epoch 29/50\n",
            "1719/1719 [==============================] - 4s 2ms/step - loss: 0.1643 - accuracy: 0.9390 - val_loss: 0.2955 - val_accuracy: 0.8960\n",
            "Epoch 30/50\n",
            "1719/1719 [==============================] - 4s 2ms/step - loss: 0.1607 - accuracy: 0.9408 - val_loss: 0.2866 - val_accuracy: 0.8966\n",
            "Epoch 31/50\n",
            "1719/1719 [==============================] - 4s 2ms/step - loss: 0.1560 - accuracy: 0.9426 - val_loss: 0.2818 - val_accuracy: 0.9078\n",
            "Epoch 32/50\n",
            "1719/1719 [==============================] - 4s 2ms/step - loss: 0.1497 - accuracy: 0.9450 - val_loss: 0.3904 - val_accuracy: 0.8698\n",
            "Epoch 33/50\n",
            "1719/1719 [==============================] - 4s 2ms/step - loss: 0.1461 - accuracy: 0.9464 - val_loss: 0.2943 - val_accuracy: 0.9006\n",
            "Epoch 34/50\n",
            "1719/1719 [==============================] - 4s 2ms/step - loss: 0.1395 - accuracy: 0.9492 - val_loss: 0.3715 - val_accuracy: 0.8876\n",
            "Epoch 35/50\n",
            "1719/1719 [==============================] - 4s 3ms/step - loss: 0.1363 - accuracy: 0.9501 - val_loss: 0.3118 - val_accuracy: 0.8936\n",
            "Epoch 36/50\n",
            "1719/1719 [==============================] - 4s 2ms/step - loss: 0.1324 - accuracy: 0.9506 - val_loss: 0.2979 - val_accuracy: 0.9000\n",
            "Epoch 37/50\n",
            "1719/1719 [==============================] - 4s 2ms/step - loss: 0.1291 - accuracy: 0.9526 - val_loss: 0.3154 - val_accuracy: 0.8918\n",
            "Epoch 38/50\n",
            "1719/1719 [==============================] - 4s 3ms/step - loss: 0.1246 - accuracy: 0.9542 - val_loss: 0.3555 - val_accuracy: 0.8874\n",
            "Epoch 39/50\n",
            "1719/1719 [==============================] - 4s 2ms/step - loss: 0.1210 - accuracy: 0.9555 - val_loss: 0.3101 - val_accuracy: 0.9010\n",
            "Epoch 40/50\n",
            "1719/1719 [==============================] - 4s 2ms/step - loss: 0.1172 - accuracy: 0.9573 - val_loss: 0.3228 - val_accuracy: 0.8922\n",
            "Epoch 41/50\n",
            "1719/1719 [==============================] - 4s 2ms/step - loss: 0.1129 - accuracy: 0.9587 - val_loss: 0.3205 - val_accuracy: 0.9010\n",
            "Epoch 42/50\n",
            "1719/1719 [==============================] - 4s 2ms/step - loss: 0.1077 - accuracy: 0.9606 - val_loss: 0.3171 - val_accuracy: 0.8978\n",
            "Epoch 43/50\n",
            "1719/1719 [==============================] - 4s 3ms/step - loss: 0.1043 - accuracy: 0.9617 - val_loss: 0.3840 - val_accuracy: 0.8930\n",
            "Epoch 44/50\n",
            "1719/1719 [==============================] - 4s 2ms/step - loss: 0.1030 - accuracy: 0.9627 - val_loss: 0.3525 - val_accuracy: 0.8968\n",
            "Epoch 45/50\n",
            "1719/1719 [==============================] - 4s 2ms/step - loss: 0.0992 - accuracy: 0.9637 - val_loss: 0.3495 - val_accuracy: 0.9006\n",
            "Epoch 46/50\n",
            "1719/1719 [==============================] - 4s 2ms/step - loss: 0.0971 - accuracy: 0.9641 - val_loss: 0.3288 - val_accuracy: 0.9004\n",
            "Epoch 47/50\n",
            "1719/1719 [==============================] - 4s 2ms/step - loss: 0.0928 - accuracy: 0.9657 - val_loss: 0.3672 - val_accuracy: 0.8872\n",
            "Epoch 48/50\n",
            "1719/1719 [==============================] - 4s 2ms/step - loss: 0.0886 - accuracy: 0.9675 - val_loss: 0.3660 - val_accuracy: 0.8938\n",
            "Epoch 49/50\n",
            "1719/1719 [==============================] - 4s 2ms/step - loss: 0.0875 - accuracy: 0.9683 - val_loss: 0.3907 - val_accuracy: 0.8944\n",
            "Epoch 50/50\n",
            "1719/1719 [==============================] - 4s 2ms/step - loss: 0.0881 - accuracy: 0.9681 - val_loss: 0.3509 - val_accuracy: 0.9008\n"
          ],
          "name": "stdout"
        }
      ]
    },
    {
      "cell_type": "code",
      "metadata": {
        "colab": {
          "base_uri": "https://localhost:8080/",
          "height": 487
        },
        "id": "OkOlSvzQt5Qa",
        "outputId": "b809e998-5e56-42ee-f65b-18408e5622a9"
      },
      "source": [
        "import pandas as pd\n",
        "import matplotlib.pyplot as plt\n",
        "\n",
        "\n",
        "pd.DataFrame(history.history).plot(figsize = (12,8))\n",
        "plt.grid(True)\n",
        "plt.gca().set_ylim(0, 1)\n",
        "plt.show()"
      ],
      "execution_count": 19,
      "outputs": [
        {
          "output_type": "display_data",
          "data": {
            "image/png": "[encoded data removed]",
            "text/plain": [
              "<Figure size 864x576 with 1 Axes>"
            ]
          },
          "metadata": {
            "tags": [],
            "needs_background": "light"
          }
        }
      ]
    },
    {
      "cell_type": "code",
      "metadata": {
        "colab": {
          "base_uri": "https://localhost:8080/"
        },
        "id": "DK-jlQnuydry",
        "outputId": "822fef96-0819-42dd-edd5-96a91e68240b"
      },
      "source": [
        "model.evaluate(x_test, y_test)"
      ],
      "execution_count": 20,
      "outputs": [
        {
          "output_type": "stream",
          "text": [
            "313/313 [==============================] - 1s 2ms/step - loss: 79.7398 - accuracy: 0.8462\n"
          ],
          "name": "stdout"
        },
        {
          "output_type": "execute_result",
          "data": {
            "text/plain": [
              "[79.73978424072266, 0.8461999893188477]"
            ]
          },
          "metadata": {
            "tags": []
          },
          "execution_count": 20
        }
      ]
    },
    {
      "cell_type": "code",
      "metadata": {
        "colab": {
          "base_uri": "https://localhost:8080/"
        },
        "id": "VLFZV33j6BP8",
        "outputId": "94ac99d9-181a-4457-ec73-fc925a3691d2"
      },
      "source": [
        "#Using the Model to Make Predictions\n",
        "x_new = x_test[:3]\n",
        "y_proba = model.predict(x_new)\n",
        "y_proba.round(2)"
      ],
      "execution_count": 21,
      "outputs": [
        {
          "output_type": "execute_result",
          "data": {
            "text/plain": [
              "array([[0., 0., 0., 0., 0., 0., 0., 0., 0., 1., 0., 0., 0., 0., 0., 0.,\n",
              "        0., 0., 0., 0., 0., 0., 0., 0., 0., 0., 0., 0., 0., 0., 0., 0.,\n",
              "        0., 0., 0., 0., 0., 0., 0., 0.],\n",
              "       [0., 0., 1., 0., 0., 0., 0., 0., 0., 0., 0., 0., 0., 0., 0., 0.,\n",
              "        0., 0., 0., 0., 0., 0., 0., 0., 0., 0., 0., 0., 0., 0., 0., 0.,\n",
              "        0., 0., 0., 0., 0., 0., 0., 0.],\n",
              "       [0., 1., 0., 0., 0., 0., 0., 0., 0., 0., 0., 0., 0., 0., 0., 0.,\n",
              "        0., 0., 0., 0., 0., 0., 0., 0., 0., 0., 0., 0., 0., 0., 0., 0.,\n",
              "        0., 0., 0., 0., 0., 0., 0., 0.]], dtype=float32)"
            ]
          },
          "metadata": {
            "tags": []
          },
          "execution_count": 21
        }
      ]
    },
    {
      "cell_type": "code",
      "metadata": {
        "colab": {
          "base_uri": "https://localhost:8080/"
        },
        "id": "LAAl0_CJ6s2y",
        "outputId": "d000f27f-ebbc-457d-fa28-373d33db152a"
      },
      "source": [
        "y_pred = model.predict_classes(x_new)\n",
        "y_pred"
      ],
      "execution_count": 22,
      "outputs": [
        {
          "output_type": "stream",
          "text": [
            "WARNING:tensorflow:From <ipython-input-22-2a45323cfad0>:1: Sequential.predict_classes (from tensorflow.python.keras.engine.sequential) is deprecated and will be removed after 2021-01-01.\n",
            "Instructions for updating:\n",
            "Please use instead:* `np.argmax(model.predict(x), axis=-1)`,   if your model does multi-class classification   (e.g. if it uses a `softmax` last-layer activation).* `(model.predict(x) > 0.5).astype(\"int32\")`,   if your model does binary classification   (e.g. if it uses a `sigmoid` last-layer activation).\n"
          ],
          "name": "stdout"
        },
        {
          "output_type": "execute_result",
          "data": {
            "text/plain": [
              "array([9, 2, 1])"
            ]
          },
          "metadata": {
            "tags": []
          },
          "execution_count": 22
        }
      ]
    },
    {
      "cell_type": "code",
      "metadata": {
        "colab": {
          "base_uri": "https://localhost:8080/"
        },
        "id": "uufooMh87S46",
        "outputId": "4d4032ad-6554-4574-a7d2-18e4c1873149"
      },
      "source": [
        "import numpy as np\n",
        "np.array(class_names)[y_pred]"
      ],
      "execution_count": 24,
      "outputs": [
        {
          "output_type": "execute_result",
          "data": {
            "text/plain": [
              "array(['Ankle boot', 'Pullover', 'Trouser'], dtype='<U11')"
            ]
          },
          "metadata": {
            "tags": []
          },
          "execution_count": 24
        }
      ]
    },
    {
      "cell_type": "code",
      "metadata": {
        "colab": {
          "base_uri": "https://localhost:8080/"
        },
        "id": "QfOEnL2o7aAK",
        "outputId": "7afdb8db-5530-411e-deb1-932a6720c290"
      },
      "source": [
        "y_new = y_test[:3]\n",
        "y_new"
      ],
      "execution_count": 25,
      "outputs": [
        {
          "output_type": "execute_result",
          "data": {
            "text/plain": [
              "array([9, 2, 1], dtype=uint8)"
            ]
          },
          "metadata": {
            "tags": []
          },
          "execution_count": 25
        }
      ]
    },
    {
      "cell_type": "code",
      "metadata": {
        "id": "mK-jRZ2K7rt6"
      },
      "source": [
        ""
      ],
      "execution_count": null,
      "outputs": []
    }
  ]
}