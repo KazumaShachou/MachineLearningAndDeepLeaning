{
  "nbformat": 4,
  "nbformat_minor": 0,
  "metadata": {
    "colab": {
      "name": "Classification_MachineLearning.ipynb",
      "provenance": [],
      "collapsed_sections": [],
      "authorship_tag": "ABX9TyOKs+sLSQVQMJhYgZmeV7I0",
      "include_colab_link": true
    },
    "kernelspec": {
      "name": "python3",
      "display_name": "Python 3"
    }
  },
  "cells": [
    {
      "cell_type": "markdown",
      "metadata": {
        "id": "view-in-github",
        "colab_type": "text"
      },
      "source": [
        "<a href=\"https://colab.research.google.com/github/KazumaShachou/MachineLearningAndDeepLeaning/blob/master/Classification_MachineLearning.ipynb\" target=\"_parent\"><img src=\"https://colab.research.google.com/assets/colab-badge.svg\" alt=\"Open In Colab\"/></a>"
      ]
    },
    {
      "cell_type": "markdown",
      "metadata": {
        "id": "m0Bq_rKSJBsq"
      },
      "source": [
        "MNIST\n"
      ]
    },
    {
      "cell_type": "code",
      "metadata": {
        "id": "0H18eLsTI39D",
        "colab": {
          "base_uri": "https://localhost:8080/"
        },
        "outputId": "04c9985f-89ca-4b19-d3f9-188be59815fa"
      },
      "source": [
        "from sklearn.datasets import fetch_openml\n",
        "mnist = fetch_openml('mnist_784', version = 1)\n",
        "mnist.keys()"
      ],
      "execution_count": 1,
      "outputs": [
        {
          "output_type": "execute_result",
          "data": {
            "text/plain": [
              "dict_keys(['data', 'target', 'frame', 'feature_names', 'target_names', 'DESCR', 'details', 'categories', 'url'])"
            ]
          },
          "metadata": {
            "tags": []
          },
          "execution_count": 1
        }
      ]
    },
    {
      "cell_type": "code",
      "metadata": {
        "colab": {
          "base_uri": "https://localhost:8080/"
        },
        "id": "HpXrGuARy7uH",
        "outputId": "fdafca76-6ee1-4d60-e4b0-3bdeb361216b"
      },
      "source": [
        "x , y = mnist['data'], mnist['target']\n",
        "x.shape"
      ],
      "execution_count": 2,
      "outputs": [
        {
          "output_type": "execute_result",
          "data": {
            "text/plain": [
              "(70000, 784)"
            ]
          },
          "metadata": {
            "tags": []
          },
          "execution_count": 2
        }
      ]
    },
    {
      "cell_type": "code",
      "metadata": {
        "id": "8s56nwx816YS",
        "colab": {
          "base_uri": "https://localhost:8080/"
        },
        "outputId": "d45ceca5-45c6-4894-9dbc-abfc17b92b42"
      },
      "source": [
        "y.shape"
      ],
      "execution_count": 3,
      "outputs": [
        {
          "output_type": "execute_result",
          "data": {
            "text/plain": [
              "(70000,)"
            ]
          },
          "metadata": {
            "tags": []
          },
          "execution_count": 3
        }
      ]
    },
    {
      "cell_type": "code",
      "metadata": {
        "id": "q3pqxt-eiyTf"
      },
      "source": [
        "import matplotlib as mpl\n",
        "import matplotlib.pyplot as plt"
      ],
      "execution_count": 4,
      "outputs": []
    },
    {
      "cell_type": "code",
      "metadata": {
        "colab": {
          "base_uri": "https://localhost:8080/",
          "height": 248
        },
        "id": "cQIq96T1D6T4",
        "outputId": "aff502ee-3548-4913-dd55-8e79d969462a"
      },
      "source": [
        "some_digit = x[0]\n",
        "some_digit_image = some_digit.reshape(28, 28)\n",
        "\n",
        "plt.imshow(some_digit_image, cmap = mpl.cm.binary,  interpolation='nearest')\n",
        "plt.axis('off')\n",
        "plt.show()\n"
      ],
      "execution_count": 5,
      "outputs": [
        {
          "output_type": "display_data",
          "data": {
            "image/png": "[encoded data removed]",
            "text/plain": [
              "<Figure size 432x288 with 1 Axes>"
            ]
          },
          "metadata": {
            "tags": [],
            "needs_background": "light"
          }
        }
      ]
    },
    {
      "cell_type": "code",
      "metadata": {
        "colab": {
          "base_uri": "https://localhost:8080/",
          "height": 35
        },
        "id": "NPHJQAOEEKre",
        "outputId": "564647e2-a5d4-4e92-ecde-b1e010572a8c"
      },
      "source": [
        "#this remember the number 5\n",
        "y[0]"
      ],
      "execution_count": 6,
      "outputs": [
        {
          "output_type": "execute_result",
          "data": {
            "application/vnd.google.colaboratory.intrinsic+json": {
              "type": "string"
            },
            "text/plain": [
              "'5'"
            ]
          },
          "metadata": {
            "tags": []
          },
          "execution_count": 6
        }
      ]
    },
    {
      "cell_type": "code",
      "metadata": {
        "id": "F5kma74jFCRe"
      },
      "source": [
        "#let’s cast y to integers\n",
        "import numpy as np\n",
        "\n",
        "y = y.astype(np.uint8)\n"
      ],
      "execution_count": 7,
      "outputs": []
    },
    {
      "cell_type": "code",
      "metadata": {
        "id": "1dj0Ba-qFdBm"
      },
      "source": [
        "#The MNIST dataset is actually already split into a training set (the first 60,000 images) and a test set (the last 10,000 images)\n",
        "x_train, x_test, y_train , y_test = x[:60000], x[:60000], y[:60000], y[:60000]"
      ],
      "execution_count": 8,
      "outputs": []
    },
    {
      "cell_type": "code",
      "metadata": {
        "id": "8fBQyHTLHadV"
      },
      "source": [
        "#Training a Binary Classifier\n",
        "#This “5-detector\" will distinguishing between 5 and not 5\n",
        "y_train_5 = (y_train == 5) \n",
        "y_test_5 = (y_test == 5)\n",
        "\n"
      ],
      "execution_count": 9,
      "outputs": []
    },
    {
      "cell_type": "code",
      "metadata": {
        "colab": {
          "base_uri": "https://localhost:8080/"
        },
        "id": "nBWyykAAKWZu",
        "outputId": "de050cf9-8a24-4c2a-90e2-b677373cfc29"
      },
      "source": [
        "#Stochastic Gradient Descent (SGD)\n",
        "from sklearn.linear_model import SGDClassifier\n",
        "\n",
        "sgd_clf = SGDClassifier(random_state =42)\n",
        "sgd_clf.fit(x_train, y_train_5)\n"
      ],
      "execution_count": 10,
      "outputs": [
        {
          "output_type": "execute_result",
          "data": {
            "text/plain": [
              "SGDClassifier(alpha=0.0001, average=False, class_weight=None,\n",
              "              early_stopping=False, epsilon=0.1, eta0=0.0, fit_intercept=True,\n",
              "              l1_ratio=0.15, learning_rate='optimal', loss='hinge',\n",
              "              max_iter=1000, n_iter_no_change=5, n_jobs=None, penalty='l2',\n",
              "              power_t=0.5, random_state=42, shuffle=True, tol=0.001,\n",
              "              validation_fraction=0.1, verbose=0, warm_start=False)"
            ]
          },
          "metadata": {
            "tags": []
          },
          "execution_count": 10
        }
      ]
    },
    {
      "cell_type": "code",
      "metadata": {
        "colab": {
          "base_uri": "https://localhost:8080/"
        },
        "id": "zVIvvOw8LHGE",
        "outputId": "2602a890-d27c-4715-891b-001ebca14d04"
      },
      "source": [
        "#detect images of the number 5\n",
        "sgd_clf.predict([some_digit])"
      ],
      "execution_count": 11,
      "outputs": [
        {
          "output_type": "execute_result",
          "data": {
            "text/plain": [
              "array([ True])"
            ]
          },
          "metadata": {
            "tags": []
          },
          "execution_count": 11
        }
      ]
    },
    {
      "cell_type": "code",
      "metadata": {
        "id": "TyF0Y7SJL2hc"
      },
      "source": [
        "#Performance Measures\n",
        "#Implementing Cross-Validation\n",
        "from sklearn.model_selection import StratifiedKFold\n",
        "from sklearn.base import clone\n"
      ],
      "execution_count": 12,
      "outputs": []
    },
    {
      "cell_type": "code",
      "metadata": {
        "colab": {
          "base_uri": "https://localhost:8080/"
        },
        "id": "VpBGdSlQNbD-",
        "outputId": "5e0b2e84-1a19-4cad-a031-206890f72c81"
      },
      "source": [
        "skfolds = StratifiedKFold(n_splits=3, random_state=42)\n",
        "\n",
        "for train_index, test_index in skfolds.split(x_train, y_train_5):\n",
        "  clone_clf = clone(sgd_clf)\n",
        "  x_train_folds = x_train[train_index]\n",
        "  y_train_folds = y_train_5[train_index]\n",
        "  x_test_fold = x_train[test_index]\n",
        "  y_test_fold = y_train_5[test_index]\n",
        "\n",
        "  clone_clf.fit(x_train_folds, y_train_folds)\n",
        "  y_pred = clone_clf.predict(x_test_fold)\n",
        "  n_correct = sum(y_pred == y_test_fold)\n",
        "  print(n_correct / len(y_pred))\n"
      ],
      "execution_count": 16,
      "outputs": [
        {
          "output_type": "stream",
          "text": [
            "/usr/local/lib/python3.6/dist-packages/sklearn/model_selection/_split.py:296: FutureWarning: Setting a random_state has no effect since shuffle is False. This will raise an error in 0.24. You should leave random_state to its default (None), or set shuffle=True.\n",
            "  FutureWarning\n"
          ],
          "name": "stderr"
        },
        {
          "output_type": "stream",
          "text": [
            "0.95035\n",
            "0.96035\n",
            "0.9604\n"
          ],
          "name": "stdout"
        }
      ]
    },
    {
      "cell_type": "code",
      "metadata": {
        "id": "4udlCq6iPFMl",
        "colab": {
          "base_uri": "https://localhost:8080/"
        },
        "outputId": "e00a6310-b6b7-4b47-9ed6-b31316474bed"
      },
      "source": [
        "from sklearn.model_selection import cross_val_score\n",
        "cross_val_score(sgd_clf, x_train, y_train_5, cv = 3, scoring = 'accuracy')"
      ],
      "execution_count": 18,
      "outputs": [
        {
          "output_type": "execute_result",
          "data": {
            "text/plain": [
              "array([0.95035, 0.96035, 0.9604 ])"
            ]
          },
          "metadata": {
            "tags": []
          },
          "execution_count": 18
        }
      ]
    },
    {
      "cell_type": "code",
      "metadata": {
        "id": "H4FksPwj09VV"
      },
      "source": [
        "#dumb classifier that just classifies every single image in the “not-5”\n",
        "from sklearn.base import BaseEstimator\n",
        "class Never5Classifier(BaseEstimator):\n",
        "  def fit(self, x, y=None):\n",
        "    pass\n",
        "  def predict(self, x):\n",
        "    return np.zeros((len(x), 1), dtype=bool)\n",
        "    \n"
      ],
      "execution_count": 19,
      "outputs": []
    },
    {
      "cell_type": "code",
      "metadata": {
        "colab": {
          "base_uri": "https://localhost:8080/"
        },
        "id": "iOj7Irhj6bs8",
        "outputId": "a8818c1d-059f-4a7a-c1e6-b6b7c015084a"
      },
      "source": [
        "never_5_clf = Never5Classifier()\n",
        "cross_val_score(never_5_clf, x_train, y_train_5, cv = 3, scoring='accuracy')"
      ],
      "execution_count": 21,
      "outputs": [
        {
          "output_type": "execute_result",
          "data": {
            "text/plain": [
              "array([0.91125, 0.90855, 0.90915])"
            ]
          },
          "metadata": {
            "tags": []
          },
          "execution_count": 21
        }
      ]
    },
    {
      "cell_type": "code",
      "metadata": {
        "id": "hXb0-IhM688T"
      },
      "source": [
        "#Confusion Matrix\n",
        "#it's a better way to evaluate the performance of a classifier\n"
      ],
      "execution_count": null,
      "outputs": []
    }
  ]
}