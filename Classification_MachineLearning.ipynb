{
  "nbformat": 4,
  "nbformat_minor": 0,
  "metadata": {
    "colab": {
      "name": "Classification_MachineLearning.ipynb",
      "provenance": [],
      "authorship_tag": "ABX9TyMFSqRdp65DfC0DXz7swSqe",
      "include_colab_link": true
    },
    "kernelspec": {
      "name": "python3",
      "display_name": "Python 3"
    }
  },
  "cells": [
    {
      "cell_type": "markdown",
      "metadata": {
        "id": "view-in-github",
        "colab_type": "text"
      },
      "source": [
        "<a href=\"https://colab.research.google.com/github/KazumaShachou/MachineLearningAndDeepLeaning/blob/master/Classification_MachineLearning.ipynb\" target=\"_parent\"><img src=\"https://colab.research.google.com/assets/colab-badge.svg\" alt=\"Open In Colab\"/></a>"
      ]
    },
    {
      "cell_type": "markdown",
      "metadata": {
        "id": "m0Bq_rKSJBsq"
      },
      "source": [
        "MNIST\n"
      ]
    },
    {
      "cell_type": "code",
      "metadata": {
        "id": "0H18eLsTI39D",
        "colab": {
          "base_uri": "https://localhost:8080/"
        },
        "outputId": "3854b142-c79d-4436-8df2-5d3bae196ff4"
      },
      "source": [
        "from sklearn.datasets import fetch_openml\n",
        "mnist = fetch_openml('mnist_784', version = 1)\n",
        "mnist.keys()"
      ],
      "execution_count": 1,
      "outputs": [
        {
          "output_type": "execute_result",
          "data": {
            "text/plain": [
              "dict_keys(['data', 'target', 'frame', 'feature_names', 'target_names', 'DESCR', 'details', 'categories', 'url'])"
            ]
          },
          "metadata": {
            "tags": []
          },
          "execution_count": 1
        }
      ]
    },
    {
      "cell_type": "code",
      "metadata": {
        "colab": {
          "base_uri": "https://localhost:8080/"
        },
        "id": "HpXrGuARy7uH",
        "outputId": "2c76dba2-2d42-4f86-e4e1-a6e50007b39b"
      },
      "source": [
        "x , y = mnist['data'], mnist['target']\n",
        "x.shape"
      ],
      "execution_count": 2,
      "outputs": [
        {
          "output_type": "execute_result",
          "data": {
            "text/plain": [
              "(70000, 784)"
            ]
          },
          "metadata": {
            "tags": []
          },
          "execution_count": 2
        }
      ]
    },
    {
      "cell_type": "code",
      "metadata": {
        "id": "8s56nwx816YS",
        "colab": {
          "base_uri": "https://localhost:8080/"
        },
        "outputId": "c02f23ba-f449-4691-d217-52258f661525"
      },
      "source": [
        "y.shape"
      ],
      "execution_count": 3,
      "outputs": [
        {
          "output_type": "execute_result",
          "data": {
            "text/plain": [
              "(70000,)"
            ]
          },
          "metadata": {
            "tags": []
          },
          "execution_count": 3
        }
      ]
    },
    {
      "cell_type": "code",
      "metadata": {
        "id": "q3pqxt-eiyTf"
      },
      "source": [
        "import matplotlib as mpl\n",
        "import matplotlib.pyplot as plt"
      ],
      "execution_count": 5,
      "outputs": []
    },
    {
      "cell_type": "code",
      "metadata": {
        "colab": {
          "base_uri": "https://localhost:8080/",
          "height": 248
        },
        "id": "cQIq96T1D6T4",
        "outputId": "77f1636a-7a2a-4b50-b597-f82c336909b7"
      },
      "source": [
        "some_digit = x[0]\n",
        "some_digit_image = some_digit.reshape(28, 28)\n",
        "\n",
        "plt.imshow(some_digit_image, cmap = mpl.cm.binary,  interpolation='nearest')\n",
        "plt.axis('off')\n",
        "plt.show()\n"
      ],
      "execution_count": 25,
      "outputs": [
        {
          "output_type": "display_data",
          "data": {
            "image/png": "[encoded data removed]",
            "text/plain": [
              "<Figure size 432x288 with 1 Axes>"
            ]
          },
          "metadata": {
            "tags": [],
            "needs_background": "light"
          }
        }
      ]
    },
    {
      "cell_type": "code",
      "metadata": {
        "colab": {
          "base_uri": "https://localhost:8080/"
        },
        "id": "NPHJQAOEEKre",
        "outputId": "8b6f2b7a-8ff1-4043-9dce-9f8543607527"
      },
      "source": [
        "#this remember the number 5\n",
        "y[0]"
      ],
      "execution_count": 26,
      "outputs": [
        {
          "output_type": "execute_result",
          "data": {
            "text/plain": [
              "5"
            ]
          },
          "metadata": {
            "tags": []
          },
          "execution_count": 26
        }
      ]
    },
    {
      "cell_type": "code",
      "metadata": {
        "id": "F5kma74jFCRe"
      },
      "source": [
        "#let’s cast y to integers\n",
        "import numpy as np\n",
        "\n",
        "y = y.astype(np.uint8)\n"
      ],
      "execution_count": 27,
      "outputs": []
    },
    {
      "cell_type": "code",
      "metadata": {
        "id": "1dj0Ba-qFdBm"
      },
      "source": [
        "#The MNIST dataset is actually already split into a training set (the first 60,000 images) and a test set (the last 10,000 images)\n",
        "x_train, x_test, y_train , y_test = x[:60000], x[:60000], y[:60000], y[:60000]"
      ],
      "execution_count": 28,
      "outputs": []
    },
    {
      "cell_type": "code",
      "metadata": {
        "id": "8fBQyHTLHadV"
      },
      "source": [
        "#Training a Binary Classifier\n",
        "#This “5-detector\" will distinguishing between 5 and not 5\n",
        "y_train_5 = (y_train == 5) \n",
        "y_test_5 = (y_test == 5)\n",
        "\n"
      ],
      "execution_count": 29,
      "outputs": []
    },
    {
      "cell_type": "code",
      "metadata": {
        "colab": {
          "base_uri": "https://localhost:8080/"
        },
        "id": "nBWyykAAKWZu",
        "outputId": "ad0442aa-6eee-4bdc-c772-ac9c3161c281"
      },
      "source": [
        "#Stochastic Gradient Descent (SGD)\n",
        "from sklearn.linear_model import SGDClassifier\n",
        "\n",
        "sgd_clf = SGDClassifier(random_state =42)\n",
        "sgd_clf.fit(x_train, y_train_5)\n"
      ],
      "execution_count": 30,
      "outputs": [
        {
          "output_type": "execute_result",
          "data": {
            "text/plain": [
              "SGDClassifier(alpha=0.0001, average=False, class_weight=None,\n",
              "              early_stopping=False, epsilon=0.1, eta0=0.0, fit_intercept=True,\n",
              "              l1_ratio=0.15, learning_rate='optimal', loss='hinge',\n",
              "              max_iter=1000, n_iter_no_change=5, n_jobs=None, penalty='l2',\n",
              "              power_t=0.5, random_state=42, shuffle=True, tol=0.001,\n",
              "              validation_fraction=0.1, verbose=0, warm_start=False)"
            ]
          },
          "metadata": {
            "tags": []
          },
          "execution_count": 30
        }
      ]
    },
    {
      "cell_type": "code",
      "metadata": {
        "colab": {
          "base_uri": "https://localhost:8080/"
        },
        "id": "zVIvvOw8LHGE",
        "outputId": "d2bdbe16-4854-410f-ed4d-98c54434b08e"
      },
      "source": [
        "#detect images of the number 5\n",
        "sgd_clf.predict([some_digit])"
      ],
      "execution_count": 31,
      "outputs": [
        {
          "output_type": "execute_result",
          "data": {
            "text/plain": [
              "array([ True])"
            ]
          },
          "metadata": {
            "tags": []
          },
          "execution_count": 31
        }
      ]
    },
    {
      "cell_type": "code",
      "metadata": {
        "id": "TyF0Y7SJL2hc"
      },
      "source": [
        "#Performance Measures\n"
      ],
      "execution_count": null,
      "outputs": []
    }
  ]
}