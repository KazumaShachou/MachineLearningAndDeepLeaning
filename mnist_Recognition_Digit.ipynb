{
  "nbformat": 4,
  "nbformat_minor": 0,
  "metadata": {
    "colab": {
      "name": "Image_Train.ipynb",
      "provenance": [],
      "collapsed_sections": []
    },
    "kernelspec": {
      "name": "python3",
      "display_name": "Python 3"
    }
  },
  "cells": [
    {
      "cell_type": "code",
      "metadata": {
        "id": "fWjWlshjLsok",
        "colab_type": "code",
        "colab": {}
      },
      "source": [
        "import keras\n",
        "from keras.datasets import mnist\n",
        "from tensorflow.python.keras import Sequential\n",
        "from tensorflow.python.keras.layers import Dense, Dropout\n",
        "from tensorflow.compat.v1.keras.optimizers import RMSprop"
      ],
      "execution_count": 1,
      "outputs": []
    },
    {
      "cell_type": "code",
      "metadata": {
        "id": "mUZCxpzbL1P1",
        "colab_type": "code",
        "colab": {}
      },
      "source": [
        "#Carregando treino e teste\n",
        "#função possui parentes\n",
        "\n",
        "(x_treino, y_treino),(x_teste, y_teste) = mnist.load_data()"
      ],
      "execution_count": 2,
      "outputs": []
    },
    {
      "cell_type": "code",
      "metadata": {
        "id": "-2EPDhqyNM18",
        "colab_type": "code",
        "colab": {
          "base_uri": "https://localhost:8080/",
          "height": 1000
        },
        "outputId": "bb64add2-cb9a-4a71-a10b-777711fee341"
      },
      "source": [
        "#how many images I have for train?\n",
        "print(\"img for train\",len(x_treino))\n",
        "#how many image for test?\n",
        "print(\"img for test\", len(x_teste))\n",
        "#who type x_treino?\n",
        "print(\"Tipo do x_treino\", type(x_treino))\n",
        "#get first image\n",
        "primeira_imagem = x_treino[0]\n",
        "print(primeira_imagem) \n",
        "\n"
      ],
      "execution_count": 3,
      "outputs": [
        {
          "output_type": "stream",
          "text": [
            "img for train 60000\n",
            "img for test 10000\n",
            "Tipo do x_treino <class 'numpy.ndarray'>\n",
            "[[  0   0   0   0   0   0   0   0   0   0   0   0   0   0   0   0   0   0\n",
            "    0   0   0   0   0   0   0   0   0   0]\n",
            " [  0   0   0   0   0   0   0   0   0   0   0   0   0   0   0   0   0   0\n",
            "    0   0   0   0   0   0   0   0   0   0]\n",
            " [  0   0   0   0   0   0   0   0   0   0   0   0   0   0   0   0   0   0\n",
            "    0   0   0   0   0   0   0   0   0   0]\n",
            " [  0   0   0   0   0   0   0   0   0   0   0   0   0   0   0   0   0   0\n",
            "    0   0   0   0   0   0   0   0   0   0]\n",
            " [  0   0   0   0   0   0   0   0   0   0   0   0   0   0   0   0   0   0\n",
            "    0   0   0   0   0   0   0   0   0   0]\n",
            " [  0   0   0   0   0   0   0   0   0   0   0   0   3  18  18  18 126 136\n",
            "  175  26 166 255 247 127   0   0   0   0]\n",
            " [  0   0   0   0   0   0   0   0  30  36  94 154 170 253 253 253 253 253\n",
            "  225 172 253 242 195  64   0   0   0   0]\n",
            " [  0   0   0   0   0   0   0  49 238 253 253 253 253 253 253 253 253 251\n",
            "   93  82  82  56  39   0   0   0   0   0]\n",
            " [  0   0   0   0   0   0   0  18 219 253 253 253 253 253 198 182 247 241\n",
            "    0   0   0   0   0   0   0   0   0   0]\n",
            " [  0   0   0   0   0   0   0   0  80 156 107 253 253 205  11   0  43 154\n",
            "    0   0   0   0   0   0   0   0   0   0]\n",
            " [  0   0   0   0   0   0   0   0   0  14   1 154 253  90   0   0   0   0\n",
            "    0   0   0   0   0   0   0   0   0   0]\n",
            " [  0   0   0   0   0   0   0   0   0   0   0 139 253 190   2   0   0   0\n",
            "    0   0   0   0   0   0   0   0   0   0]\n",
            " [  0   0   0   0   0   0   0   0   0   0   0  11 190 253  70   0   0   0\n",
            "    0   0   0   0   0   0   0   0   0   0]\n",
            " [  0   0   0   0   0   0   0   0   0   0   0   0  35 241 225 160 108   1\n",
            "    0   0   0   0   0   0   0   0   0   0]\n",
            " [  0   0   0   0   0   0   0   0   0   0   0   0   0  81 240 253 253 119\n",
            "   25   0   0   0   0   0   0   0   0   0]\n",
            " [  0   0   0   0   0   0   0   0   0   0   0   0   0   0  45 186 253 253\n",
            "  150  27   0   0   0   0   0   0   0   0]\n",
            " [  0   0   0   0   0   0   0   0   0   0   0   0   0   0   0  16  93 252\n",
            "  253 187   0   0   0   0   0   0   0   0]\n",
            " [  0   0   0   0   0   0   0   0   0   0   0   0   0   0   0   0   0 249\n",
            "  253 249  64   0   0   0   0   0   0   0]\n",
            " [  0   0   0   0   0   0   0   0   0   0   0   0   0   0  46 130 183 253\n",
            "  253 207   2   0   0   0   0   0   0   0]\n",
            " [  0   0   0   0   0   0   0   0   0   0   0   0  39 148 229 253 253 253\n",
            "  250 182   0   0   0   0   0   0   0   0]\n",
            " [  0   0   0   0   0   0   0   0   0   0  24 114 221 253 253 253 253 201\n",
            "   78   0   0   0   0   0   0   0   0   0]\n",
            " [  0   0   0   0   0   0   0   0  23  66 213 253 253 253 253 198  81   2\n",
            "    0   0   0   0   0   0   0   0   0   0]\n",
            " [  0   0   0   0   0   0  18 171 219 253 253 253 253 195  80   9   0   0\n",
            "    0   0   0   0   0   0   0   0   0   0]\n",
            " [  0   0   0   0  55 172 226 253 253 253 253 244 133  11   0   0   0   0\n",
            "    0   0   0   0   0   0   0   0   0   0]\n",
            " [  0   0   0   0 136 253 253 253 212 135 132  16   0   0   0   0   0   0\n",
            "    0   0   0   0   0   0   0   0   0   0]\n",
            " [  0   0   0   0   0   0   0   0   0   0   0   0   0   0   0   0   0   0\n",
            "    0   0   0   0   0   0   0   0   0   0]\n",
            " [  0   0   0   0   0   0   0   0   0   0   0   0   0   0   0   0   0   0\n",
            "    0   0   0   0   0   0   0   0   0   0]\n",
            " [  0   0   0   0   0   0   0   0   0   0   0   0   0   0   0   0   0   0\n",
            "    0   0   0   0   0   0   0   0   0   0]]\n"
          ],
          "name": "stdout"
        }
      ]
    },
    {
      "cell_type": "code",
      "metadata": {
        "id": "RO-DKCK9OSIj",
        "colab_type": "code",
        "colab": {
          "base_uri": "https://localhost:8080/",
          "height": 282
        },
        "outputId": "d740eb7c-68d0-46eb-db9e-062122ef847c"
      },
      "source": [
        "import matplotlib.pyplot as plt\n",
        "\n",
        "indice = 15000\n",
        "\n",
        "plt.imshow(x_treino[indice])\n",
        "plt.show"
      ],
      "execution_count": 4,
      "outputs": [
        {
          "output_type": "execute_result",
          "data": {
            "text/plain": [
              "<function matplotlib.pyplot.show>"
            ]
          },
          "metadata": {
            "tags": []
          },
          "execution_count": 4
        },
        {
          "output_type": "display_data",
          "data": {
            "image/png": "[encoded data removed]",
            "text/plain": [
              "<Figure size 432x288 with 1 Axes>"
            ]
          },
          "metadata": {
            "tags": [],
            "needs_background": "light"
          }
        }
      ]
    },
    {
      "cell_type": "code",
      "metadata": {
        "id": "v3VfulcHQPh3",
        "colab_type": "code",
        "colab": {}
      },
      "source": [
        "#achatando matrizes de pixel e transformando em uma unica lista com valores entre 0 e 1\n",
        "quantidade_treino = len(x_treino)\n",
        "quantidade_teste = len(x_teste)\n",
        "\n",
        "resolucao_imagem = x_treino[0].shape\n",
        "resolucao_total = resolucao_imagem[0] * resolucao_imagem[1]\n",
        "\n",
        "x_treino = x_treino.reshape(quantidade_treino, resolucao_total)\n",
        "x_teste = x_teste.reshape(quantidade_teste, resolucao_total)\n"
      ],
      "execution_count": 5,
      "outputs": []
    },
    {
      "cell_type": "code",
      "metadata": {
        "id": "oCyxlqK2S6Za",
        "colab_type": "code",
        "colab": {
          "base_uri": "https://localhost:8080/",
          "height": 52
        },
        "outputId": "9b745769-8d60-4051-d8cd-86cc47042ad7"
      },
      "source": [
        "#normalização dos dados\n",
        "#255 vira 1\n",
        "# 0 vira 0\n",
        "#assim por diante\n",
        "\n",
        "\n",
        "x_treino = x_treino.astype('float32')\n",
        "x_teste = x_teste.astype('float32')\n",
        "\n",
        "x_treino /= 255\n",
        "x_teste /= 255\n",
        "\n",
        "           \n",
        "print(type(x_treino[0][350]))\n",
        "print(x_treino[0][350])\n"
      ],
      "execution_count": 6,
      "outputs": [
        {
          "output_type": "stream",
          "text": [
            "<class 'numpy.float32'>\n",
            "0.27450982\n"
          ],
          "name": "stdout"
        }
      ]
    },
    {
      "cell_type": "code",
      "metadata": {
        "id": "Jg19KxBeUzJD",
        "colab_type": "code",
        "colab": {
          "base_uri": "https://localhost:8080/",
          "height": 1000
        },
        "outputId": "86d61317-9c7f-4329-e685-c72ee6dc7073"
      },
      "source": [
        "#dados normalizados\n",
        "\n",
        "print(\"Dados normalizados\", x_treino[0])\n",
        "\n"
      ],
      "execution_count": 7,
      "outputs": [
        {
          "output_type": "stream",
          "text": [
            "Dados normalizados [0.         0.         0.         0.         0.         0.\n",
            " 0.         0.         0.         0.         0.         0.\n",
            " 0.         0.         0.         0.         0.         0.\n",
            " 0.         0.         0.         0.         0.         0.\n",
            " 0.         0.         0.         0.         0.         0.\n",
            " 0.         0.         0.         0.         0.         0.\n",
            " 0.         0.         0.         0.         0.         0.\n",
            " 0.         0.         0.         0.         0.         0.\n",
            " 0.         0.         0.         0.         0.         0.\n",
            " 0.         0.         0.         0.         0.         0.\n",
            " 0.         0.         0.         0.         0.         0.\n",
            " 0.         0.         0.         0.         0.         0.\n",
            " 0.         0.         0.         0.         0.         0.\n",
            " 0.         0.         0.         0.         0.         0.\n",
            " 0.         0.         0.         0.         0.         0.\n",
            " 0.         0.         0.         0.         0.         0.\n",
            " 0.         0.         0.         0.         0.         0.\n",
            " 0.         0.         0.         0.         0.         0.\n",
            " 0.         0.         0.         0.         0.         0.\n",
            " 0.         0.         0.         0.         0.         0.\n",
            " 0.         0.         0.         0.         0.         0.\n",
            " 0.         0.         0.         0.         0.         0.\n",
            " 0.         0.         0.         0.         0.         0.\n",
            " 0.         0.         0.         0.         0.         0.\n",
            " 0.         0.         0.         0.         0.         0.\n",
            " 0.         0.         0.01176471 0.07058824 0.07058824 0.07058824\n",
            " 0.49411765 0.53333336 0.6862745  0.10196079 0.6509804  1.\n",
            " 0.96862745 0.49803922 0.         0.         0.         0.\n",
            " 0.         0.         0.         0.         0.         0.\n",
            " 0.         0.         0.11764706 0.14117648 0.36862746 0.6039216\n",
            " 0.6666667  0.99215686 0.99215686 0.99215686 0.99215686 0.99215686\n",
            " 0.88235295 0.6745098  0.99215686 0.9490196  0.7647059  0.2509804\n",
            " 0.         0.         0.         0.         0.         0.\n",
            " 0.         0.         0.         0.         0.         0.19215687\n",
            " 0.93333334 0.99215686 0.99215686 0.99215686 0.99215686 0.99215686\n",
            " 0.99215686 0.99215686 0.99215686 0.9843137  0.3647059  0.32156864\n",
            " 0.32156864 0.21960784 0.15294118 0.         0.         0.\n",
            " 0.         0.         0.         0.         0.         0.\n",
            " 0.         0.         0.         0.07058824 0.85882354 0.99215686\n",
            " 0.99215686 0.99215686 0.99215686 0.99215686 0.7764706  0.7137255\n",
            " 0.96862745 0.94509804 0.         0.         0.         0.\n",
            " 0.         0.         0.         0.         0.         0.\n",
            " 0.         0.         0.         0.         0.         0.\n",
            " 0.         0.         0.3137255  0.6117647  0.41960785 0.99215686\n",
            " 0.99215686 0.8039216  0.04313726 0.         0.16862746 0.6039216\n",
            " 0.         0.         0.         0.         0.         0.\n",
            " 0.         0.         0.         0.         0.         0.\n",
            " 0.         0.         0.         0.         0.         0.\n",
            " 0.         0.05490196 0.00392157 0.6039216  0.99215686 0.3529412\n",
            " 0.         0.         0.         0.         0.         0.\n",
            " 0.         0.         0.         0.         0.         0.\n",
            " 0.         0.         0.         0.         0.         0.\n",
            " 0.         0.         0.         0.         0.         0.\n",
            " 0.         0.54509807 0.99215686 0.74509805 0.00784314 0.\n",
            " 0.         0.         0.         0.         0.         0.\n",
            " 0.         0.         0.         0.         0.         0.\n",
            " 0.         0.         0.         0.         0.         0.\n",
            " 0.         0.         0.         0.         0.         0.04313726\n",
            " 0.74509805 0.99215686 0.27450982 0.         0.         0.\n",
            " 0.         0.         0.         0.         0.         0.\n",
            " 0.         0.         0.         0.         0.         0.\n",
            " 0.         0.         0.         0.         0.         0.\n",
            " 0.         0.         0.         0.         0.13725491 0.94509804\n",
            " 0.88235295 0.627451   0.42352942 0.00392157 0.         0.\n",
            " 0.         0.         0.         0.         0.         0.\n",
            " 0.         0.         0.         0.         0.         0.\n",
            " 0.         0.         0.         0.         0.         0.\n",
            " 0.         0.         0.         0.31764707 0.9411765  0.99215686\n",
            " 0.99215686 0.46666667 0.09803922 0.         0.         0.\n",
            " 0.         0.         0.         0.         0.         0.\n",
            " 0.         0.         0.         0.         0.         0.\n",
            " 0.         0.         0.         0.         0.         0.\n",
            " 0.         0.         0.1764706  0.7294118  0.99215686 0.99215686\n",
            " 0.5882353  0.10588235 0.         0.         0.         0.\n",
            " 0.         0.         0.         0.         0.         0.\n",
            " 0.         0.         0.         0.         0.         0.\n",
            " 0.         0.         0.         0.         0.         0.\n",
            " 0.         0.0627451  0.3647059  0.9882353  0.99215686 0.73333335\n",
            " 0.         0.         0.         0.         0.         0.\n",
            " 0.         0.         0.         0.         0.         0.\n",
            " 0.         0.         0.         0.         0.         0.\n",
            " 0.         0.         0.         0.         0.         0.\n",
            " 0.         0.9764706  0.99215686 0.9764706  0.2509804  0.\n",
            " 0.         0.         0.         0.         0.         0.\n",
            " 0.         0.         0.         0.         0.         0.\n",
            " 0.         0.         0.         0.         0.         0.\n",
            " 0.         0.         0.18039216 0.50980395 0.7176471  0.99215686\n",
            " 0.99215686 0.8117647  0.00784314 0.         0.         0.\n",
            " 0.         0.         0.         0.         0.         0.\n",
            " 0.         0.         0.         0.         0.         0.\n",
            " 0.         0.         0.         0.         0.15294118 0.5803922\n",
            " 0.8980392  0.99215686 0.99215686 0.99215686 0.98039216 0.7137255\n",
            " 0.         0.         0.         0.         0.         0.\n",
            " 0.         0.         0.         0.         0.         0.\n",
            " 0.         0.         0.         0.         0.         0.\n",
            " 0.09411765 0.44705883 0.8666667  0.99215686 0.99215686 0.99215686\n",
            " 0.99215686 0.7882353  0.30588236 0.         0.         0.\n",
            " 0.         0.         0.         0.         0.         0.\n",
            " 0.         0.         0.         0.         0.         0.\n",
            " 0.         0.         0.09019608 0.25882354 0.8352941  0.99215686\n",
            " 0.99215686 0.99215686 0.99215686 0.7764706  0.31764707 0.00784314\n",
            " 0.         0.         0.         0.         0.         0.\n",
            " 0.         0.         0.         0.         0.         0.\n",
            " 0.         0.         0.         0.         0.07058824 0.67058825\n",
            " 0.85882354 0.99215686 0.99215686 0.99215686 0.99215686 0.7647059\n",
            " 0.3137255  0.03529412 0.         0.         0.         0.\n",
            " 0.         0.         0.         0.         0.         0.\n",
            " 0.         0.         0.         0.         0.         0.\n",
            " 0.21568628 0.6745098  0.8862745  0.99215686 0.99215686 0.99215686\n",
            " 0.99215686 0.95686275 0.52156866 0.04313726 0.         0.\n",
            " 0.         0.         0.         0.         0.         0.\n",
            " 0.         0.         0.         0.         0.         0.\n",
            " 0.         0.         0.         0.         0.53333336 0.99215686\n",
            " 0.99215686 0.99215686 0.83137256 0.5294118  0.5176471  0.0627451\n",
            " 0.         0.         0.         0.         0.         0.\n",
            " 0.         0.         0.         0.         0.         0.\n",
            " 0.         0.         0.         0.         0.         0.\n",
            " 0.         0.         0.         0.         0.         0.\n",
            " 0.         0.         0.         0.         0.         0.\n",
            " 0.         0.         0.         0.         0.         0.\n",
            " 0.         0.         0.         0.         0.         0.\n",
            " 0.         0.         0.         0.         0.         0.\n",
            " 0.         0.         0.         0.         0.         0.\n",
            " 0.         0.         0.         0.         0.         0.\n",
            " 0.         0.         0.         0.         0.         0.\n",
            " 0.         0.         0.         0.         0.         0.\n",
            " 0.         0.         0.         0.         0.         0.\n",
            " 0.         0.         0.         0.         0.         0.\n",
            " 0.         0.         0.         0.         0.         0.\n",
            " 0.         0.         0.         0.         0.         0.\n",
            " 0.         0.         0.         0.        ]\n"
          ],
          "name": "stdout"
        }
      ]
    },
    {
      "cell_type": "code",
      "metadata": {
        "id": "_iHKq-iVWLwY",
        "colab_type": "code",
        "colab": {
          "base_uri": "https://localhost:8080/",
          "height": 70
        },
        "outputId": "8b5d47a1-98f7-43c4-c2ae-5e801a836013"
      },
      "source": [
        "#camada de saida\n",
        "\n",
        "valores_unicos = set(y_treino)\n",
        "quantidade_valores_unicos = len(valores_unicos)\n",
        "print(valores_unicos)\n",
        "\n",
        "#transformação dos valores unicos em variaveis categoricas\n",
        "\n",
        "#representação categorica de um numero em uma rede neural\n",
        "# numero 0 -> [1,0,0,0,0,0,0,0,0,0]\n",
        "#...\n",
        "#numero 9 - > [0,0,0,0,0,0,0,0, 9]\n",
        "\n",
        "print(\"y_treino[0 antes\", y_treino[0] )\n",
        "y_treino = keras.utils.to_categorical(y_treino, quantidade_valores_unicos)\n",
        "y_teste = keras.utils.to_categorical(y_teste, quantidade_valores_unicos)\n",
        "\n",
        "print(\"y_treino[0] depois\", y_treino[0])\n",
        "\n",
        "#executa apenas 1 vez ou pode quebrar todo código"
      ],
      "execution_count": 8,
      "outputs": [
        {
          "output_type": "stream",
          "text": [
            "{0, 1, 2, 3, 4, 5, 6, 7, 8, 9}\n",
            "y_treino[0 antes 5\n",
            "y_treino[0] depois [0. 0. 0. 0. 0. 1. 0. 0. 0. 0.]\n"
          ],
          "name": "stdout"
        }
      ]
    },
    {
      "cell_type": "code",
      "metadata": {
        "id": "zd0TMqnLWmoX",
        "colab_type": "code",
        "colab": {
          "base_uri": "https://localhost:8080/",
          "height": 336
        },
        "outputId": "89485325-6d1c-4f10-a4a5-cba92234a12e"
      },
      "source": [
        "#criando modelo de rede neural\n",
        "\n",
        "model = Sequential()\n",
        "\n",
        "#primeira hidden layer com 30 neuronios e função de ativação ReLu\n",
        "#Na camada 1 , informamos input shape, que é (784,) , ela é uma tupla, entao virgula é essencial\n",
        "\n",
        "\n",
        "model.add(Dense(450, activation='relu', input_shape=(resolucao_total, )))\n",
        "\n",
        "#adicionando dropout pra evitar overfit\n",
        "\n",
        "model.add(Dropout(0.2))\n",
        "\n",
        "#segunda hidden layer , essa tem pedaços maiores, entao sera cada uma com 20 neutonios + relu\n",
        "model.add(Dense(300, activation='relu'))\n",
        "\n",
        "#mais um regularizador apos a 2 hidden\n",
        "\n",
        "model.add(Dropout(0.2))\n",
        "\n",
        "#finalizamos com camada de saida, output , informando valores unicos\n",
        "\n",
        "model.add(Dense(quantidade_valores_unicos, activation='softmax'))\n",
        "\n",
        "#exibe modelo criado\n",
        "\n",
        "model.summary()"
      ],
      "execution_count": 9,
      "outputs": [
        {
          "output_type": "stream",
          "text": [
            "Model: \"sequential\"\n",
            "_________________________________________________________________\n",
            "Layer (type)                 Output Shape              Param #   \n",
            "=================================================================\n",
            "dense (Dense)                (None, 450)               353250    \n",
            "_________________________________________________________________\n",
            "dropout (Dropout)            (None, 450)               0         \n",
            "_________________________________________________________________\n",
            "dense_1 (Dense)              (None, 300)               135300    \n",
            "_________________________________________________________________\n",
            "dropout_1 (Dropout)          (None, 300)               0         \n",
            "_________________________________________________________________\n",
            "dense_2 (Dense)              (None, 10)                3010      \n",
            "=================================================================\n",
            "Total params: 491,560\n",
            "Trainable params: 491,560\n",
            "Non-trainable params: 0\n",
            "_________________________________________________________________\n"
          ],
          "name": "stdout"
        }
      ]
    },
    {
      "cell_type": "code",
      "metadata": {
        "id": "SCm8A_R0d-A5",
        "colab_type": "code",
        "colab": {}
      },
      "source": [
        "model.compile(loss='categorical_crossentropy', \n",
        "              optimizer=RMSprop(),\n",
        "              metrics=['accuracy'])"
      ],
      "execution_count": 10,
      "outputs": []
    },
    {
      "cell_type": "code",
      "metadata": {
        "id": "xhEv3cUkfNfc",
        "colab_type": "code",
        "colab": {
          "base_uri": "https://localhost:8080/",
          "height": 727
        },
        "outputId": "8be60b21-b4ab-43ea-9bb5-95634fc9aaf7"
      },
      "source": [
        "#Treinar o modelo\n",
        "\n",
        "history = model.fit(x_treino,y_treino,\n",
        "                    batch_size=128,\n",
        "                    epochs=20\n",
        "                    ,verbose=1\n",
        "                    ,validation_data= (x_teste, y_teste))"
      ],
      "execution_count": 11,
      "outputs": [
        {
          "output_type": "stream",
          "text": [
            "Epoch 1/20\n",
            "469/469 [==============================] - 7s 15ms/step - loss: 0.2593 - accuracy: 0.9213 - val_loss: 0.1010 - val_accuracy: 0.9665\n",
            "Epoch 2/20\n",
            "469/469 [==============================] - 7s 15ms/step - loss: 0.1104 - accuracy: 0.9665 - val_loss: 0.0933 - val_accuracy: 0.9722\n",
            "Epoch 3/20\n",
            "469/469 [==============================] - 7s 15ms/step - loss: 0.0818 - accuracy: 0.9750 - val_loss: 0.0765 - val_accuracy: 0.9766\n",
            "Epoch 4/20\n",
            "469/469 [==============================] - 7s 14ms/step - loss: 0.0624 - accuracy: 0.9813 - val_loss: 0.0769 - val_accuracy: 0.9787\n",
            "Epoch 5/20\n",
            "469/469 [==============================] - 7s 14ms/step - loss: 0.0531 - accuracy: 0.9840 - val_loss: 0.0731 - val_accuracy: 0.9815\n",
            "Epoch 6/20\n",
            "469/469 [==============================] - 7s 15ms/step - loss: 0.0479 - accuracy: 0.9856 - val_loss: 0.0757 - val_accuracy: 0.9811\n",
            "Epoch 7/20\n",
            "469/469 [==============================] - 7s 14ms/step - loss: 0.0419 - accuracy: 0.9872 - val_loss: 0.0705 - val_accuracy: 0.9832\n",
            "Epoch 8/20\n",
            "469/469 [==============================] - 7s 14ms/step - loss: 0.0369 - accuracy: 0.9884 - val_loss: 0.0859 - val_accuracy: 0.9789\n",
            "Epoch 9/20\n",
            "469/469 [==============================] - 7s 15ms/step - loss: 0.0320 - accuracy: 0.9899 - val_loss: 0.0952 - val_accuracy: 0.9794\n",
            "Epoch 10/20\n",
            "469/469 [==============================] - 7s 14ms/step - loss: 0.0304 - accuracy: 0.9906 - val_loss: 0.0941 - val_accuracy: 0.9809\n",
            "Epoch 11/20\n",
            "469/469 [==============================] - 7s 14ms/step - loss: 0.0290 - accuracy: 0.9912 - val_loss: 0.0804 - val_accuracy: 0.9829\n",
            "Epoch 12/20\n",
            "469/469 [==============================] - 7s 14ms/step - loss: 0.0258 - accuracy: 0.9922 - val_loss: 0.1049 - val_accuracy: 0.9805\n",
            "Epoch 13/20\n",
            "469/469 [==============================] - 7s 15ms/step - loss: 0.0275 - accuracy: 0.9923 - val_loss: 0.0978 - val_accuracy: 0.9806\n",
            "Epoch 14/20\n",
            "469/469 [==============================] - 7s 15ms/step - loss: 0.0230 - accuracy: 0.9934 - val_loss: 0.0996 - val_accuracy: 0.9821\n",
            "Epoch 15/20\n",
            "469/469 [==============================] - 7s 16ms/step - loss: 0.0225 - accuracy: 0.9937 - val_loss: 0.1115 - val_accuracy: 0.9828\n",
            "Epoch 16/20\n",
            "469/469 [==============================] - 7s 16ms/step - loss: 0.0242 - accuracy: 0.9933 - val_loss: 0.1094 - val_accuracy: 0.9821\n",
            "Epoch 17/20\n",
            "469/469 [==============================] - 7s 15ms/step - loss: 0.0209 - accuracy: 0.9938 - val_loss: 0.1084 - val_accuracy: 0.9835\n",
            "Epoch 18/20\n",
            "469/469 [==============================] - 7s 15ms/step - loss: 0.0188 - accuracy: 0.9948 - val_loss: 0.1146 - val_accuracy: 0.9838\n",
            "Epoch 19/20\n",
            "469/469 [==============================] - 7s 14ms/step - loss: 0.0205 - accuracy: 0.9945 - val_loss: 0.1164 - val_accuracy: 0.9831\n",
            "Epoch 20/20\n",
            "469/469 [==============================] - 7s 15ms/step - loss: 0.0164 - accuracy: 0.9950 - val_loss: 0.1064 - val_accuracy: 0.9838\n"
          ],
          "name": "stdout"
        }
      ]
    },
    {
      "cell_type": "code",
      "metadata": {
        "id": "FtCIpTgEgLA-",
        "colab_type": "code",
        "colab": {
          "base_uri": "https://localhost:8080/",
          "height": 371
        },
        "outputId": "2c919ac3-256e-455f-ff1f-a59413a5ab91"
      },
      "source": [
        "#Fazendo nossas previsoes\n",
        "\n",
        "indice = 9800\n",
        "\n",
        "\n",
        "#Qual valor categorico de y_test[indice]\n",
        "\n",
        "print(\"Valor categorico em y_teste[indice]\", y_teste[indice])\n",
        "\n",
        "#parece ser 7\n",
        "\n",
        "#print(x_teste[indice])\n",
        "imagem = x_teste[indice].reshape((1, resolucao_total))\n",
        "\n",
        "#print(imagem)\n",
        "\n",
        "#fazendo previsao\n",
        "\n",
        "prediction = model.predict(imagem)\n",
        "print(\"Previsão :\", prediction)\n",
        "\n",
        "#prediction_class = model.predict_classes(imagem)\n",
        "\n",
        "import numpy as np\n",
        "\n",
        "prediction_class = np.argmax(model.predict(imagem), axis= -1)\n",
        "\n",
        "print(\"Previsão ajustada\", prediction_class)\n",
        "\n",
        "(x_treino_img, y_treino_img), (x_teste_img, y_teste_img) = mnist.load_data()\n",
        "plt.imshow(x_teste_img[indice], cmap=plt.cm.binary)"
      ],
      "execution_count": 12,
      "outputs": [
        {
          "output_type": "stream",
          "text": [
            "Valor categorico em y_teste[indice] [1. 0. 0. 0. 0. 0. 0. 0. 0. 0.]\n",
            "Previsão : [[9.99999762e-01 1.31838865e-20 2.93370590e-07 2.92347594e-14\n",
            "  4.69476058e-16 1.13443517e-11 4.15037671e-10 3.80963987e-17\n",
            "  5.17085841e-09 1.99367278e-09]]\n",
            "Previsão ajustada [0]\n"
          ],
          "name": "stdout"
        },
        {
          "output_type": "execute_result",
          "data": {
            "text/plain": [
              "<matplotlib.image.AxesImage at 0x7f7a69109208>"
            ]
          },
          "metadata": {
            "tags": []
          },
          "execution_count": 12
        },
        {
          "output_type": "display_data",
          "data": {
            "image/png": "[encoded data removed]",
            "text/plain": [
              "<Figure size 432x288 with 1 Axes>"
            ]
          },
          "metadata": {
            "tags": [],
            "needs_background": "light"
          }
        }
      ]
    },
    {
      "cell_type": "code",
      "metadata": {
        "id": "LJvZf22eh12X",
        "colab_type": "code",
        "colab": {
          "base_uri": "https://localhost:8080/",
          "height": 1000
        },
        "outputId": "2c3153a0-8083-44db-8588-dfa34ef47751"
      },
      "source": [
        "#Fazendo nossas previsoes\n",
        "\n",
        "while True:\n",
        "  print(\"digite um valor entre 0 e 10000\")\n",
        "  indice = int(input())\n",
        "\n",
        "  if indice == -1:\n",
        "    break\n",
        "\n",
        "    \n",
        "  #Qual valor categorico de y_test[indice]\n",
        "\n",
        "  print(\"Valor categorico em y_teste[indice]\", y_teste[indice])\n",
        "\n",
        "  #print(x_teste[indice])\n",
        "  imagem = x_teste[indice].reshape((1, resolucao_total))\n",
        "\n",
        "  #print(imagem)\n",
        "\n",
        "  #fazendo previsao\n",
        "\n",
        "  prediction = model.predict(imagem)\n",
        "  print(\"Previsão :\", prediction)\n",
        "\n",
        "  #prediction_class = model.predict_classes(imagem)\n",
        "\n",
        "  import numpy as np\n",
        "\n",
        "  prediction_class = np.argmax(model.predict(imagem), axis= -1)\n",
        "\n",
        "  print(\"Previsão ajustada\", prediction_class)\n",
        "\n",
        "  (x_treino_img, y_treino_img), (x_teste_img, y_teste_img) = mnist.load_data()\n",
        "  plt.imshow(x_teste_img[indice],  cmap=plt.cm.binary)\n",
        "  plt.show()"
      ],
      "execution_count": 13,
      "outputs": [
        {
          "output_type": "stream",
          "text": [
            "digite um valor entre 0 e 10000\n",
            "9999\n",
            "Valor categorico em y_teste[indice] [0. 0. 0. 0. 0. 0. 1. 0. 0. 0.]\n",
            "Previsão : [[5.1815373e-26 3.7239291e-34 9.5231499e-33 1.3390666e-31 1.3930433e-28\n",
            "  3.4843845e-22 1.0000000e+00 0.0000000e+00 5.8549348e-29 1.4875729e-27]]\n",
            "Previsão ajustada [6]\n"
          ],
          "name": "stdout"
        },
        {
          "output_type": "display_data",
          "data": {
            "image/png": "[encoded data removed]",
            "text/plain": [
              "<Figure size 432x288 with 1 Axes>"
            ]
          },
          "metadata": {
            "tags": [],
            "needs_background": "light"
          }
        },
        {
          "output_type": "stream",
          "text": [
            "digite um valor entre 0 e 10000\n",
            "6980\n",
            "Valor categorico em y_teste[indice] [0. 0. 0. 0. 0. 0. 0. 0. 0. 1.]\n",
            "Previsão : [[2.01948288e-17 3.12034188e-12 4.43200969e-15 1.79748505e-09\n",
            "  3.03944574e-07 1.24856184e-11 1.23654761e-20 1.75322352e-08\n",
            "  5.12810128e-10 9.99999642e-01]]\n",
            "Previsão ajustada [9]\n"
          ],
          "name": "stdout"
        },
        {
          "output_type": "display_data",
          "data": {
            "image/png": "[encoded data removed]",
            "text/plain": [
              "<Figure size 432x288 with 1 Axes>"
            ]
          },
          "metadata": {
            "tags": [],
            "needs_background": "light"
          }
        },
        {
          "output_type": "stream",
          "text": [
            "digite um valor entre 0 e 10000\n",
            "1209\n",
            "Valor categorico em y_teste[indice] [0. 0. 0. 0. 0. 0. 1. 0. 0. 0.]\n",
            "Previsão : [[3.8078953e-18 6.3399996e-10 2.9543826e-16 1.7049219e-16 5.2022128e-19\n",
            "  7.6102529e-09 1.0000000e+00 8.3996647e-25 7.6632689e-10 1.2530175e-24]]\n",
            "Previsão ajustada [6]\n"
          ],
          "name": "stdout"
        },
        {
          "output_type": "display_data",
          "data": {
            "image/png": "[encoded data removed]",
            "text/plain": [
              "<Figure size 432x288 with 1 Axes>"
            ]
          },
          "metadata": {
            "tags": [],
            "needs_background": "light"
          }
        },
        {
          "output_type": "stream",
          "text": [
            "digite um valor entre 0 e 10000\n",
            "790\n",
            "Valor categorico em y_teste[indice] [0. 1. 0. 0. 0. 0. 0. 0. 0. 0.]\n",
            "Previsão : [[3.8837383e-19 1.0000000e+00 1.5616824e-13 1.2368112e-14 9.6934995e-12\n",
            "  5.5195033e-12 5.4602402e-11 3.1396215e-11 5.9084138e-10 1.2807198e-13]]\n",
            "Previsão ajustada [1]\n"
          ],
          "name": "stdout"
        },
        {
          "output_type": "display_data",
          "data": {
            "image/png": "[encoded data removed]",
            "text/plain": [
              "<Figure size 432x288 with 1 Axes>"
            ]
          },
          "metadata": {
            "tags": [],
            "needs_background": "light"
          }
        },
        {
          "output_type": "stream",
          "text": [
            "digite um valor entre 0 e 10000\n",
            "1\n",
            "Valor categorico em y_teste[indice] [0. 0. 1. 0. 0. 0. 0. 0. 0. 0.]\n",
            "Previsão : [[1.5072034e-37 5.5830974e-19 1.0000000e+00 3.3889234e-23 0.0000000e+00\n",
            "  5.2313768e-38 1.0765007e-37 0.0000000e+00 9.9725185e-34 0.0000000e+00]]\n",
            "Previsão ajustada [2]\n"
          ],
          "name": "stdout"
        },
        {
          "output_type": "display_data",
          "data": {
            "image/png": "[encoded data removed]",
            "text/plain": [
              "<Figure size 432x288 with 1 Axes>"
            ]
          },
          "metadata": {
            "tags": [],
            "needs_background": "light"
          }
        },
        {
          "output_type": "stream",
          "text": [
            "digite um valor entre 0 e 10000\n",
            "239\n",
            "Valor categorico em y_teste[indice] [0. 1. 0. 0. 0. 0. 0. 0. 0. 0.]\n",
            "Previsão : [[4.3323950e-25 1.0000000e+00 4.0829915e-15 1.6740399e-15 6.1552229e-11\n",
            "  1.0335571e-12 4.1608559e-14 2.0839636e-12 9.0611613e-10 3.7593659e-13]]\n",
            "Previsão ajustada [1]\n"
          ],
          "name": "stdout"
        },
        {
          "output_type": "display_data",
          "data": {
            "image/png": "[encoded data removed]",
            "text/plain": [
              "<Figure size 432x288 with 1 Axes>"
            ]
          },
          "metadata": {
            "tags": [],
            "needs_background": "light"
          }
        },
        {
          "output_type": "stream",
          "text": [
            "digite um valor entre 0 e 10000\n",
            "870\n",
            "Valor categorico em y_teste[indice] [0. 0. 0. 0. 0. 0. 1. 0. 0. 0.]\n",
            "Previsão : [[6.7653067e-16 4.1140353e-18 1.5894991e-19 2.1013849e-21 1.3711057e-21\n",
            "  1.3632577e-08 1.0000000e+00 7.1396704e-25 4.5453836e-12 1.6344116e-16]]\n",
            "Previsão ajustada [6]\n"
          ],
          "name": "stdout"
        },
        {
          "output_type": "display_data",
          "data": {
            "image/png": "[encoded data removed]",
            "text/plain": [
              "<Figure size 432x288 with 1 Axes>"
            ]
          },
          "metadata": {
            "tags": [],
            "needs_background": "light"
          }
        },
        {
          "output_type": "stream",
          "text": [
            "digite um valor entre 0 e 10000\n",
            "589\n",
            "Valor categorico em y_teste[indice] [0. 0. 0. 0. 1. 0. 0. 0. 0. 0.]\n",
            "Previsão : [[2.0509948e-26 7.3067786e-14 7.0795450e-17 6.7755980e-20 1.0000000e+00\n",
            "  1.7355817e-14 6.6564381e-22 1.4074491e-13 4.2015096e-15 5.0697649e-12]]\n",
            "Previsão ajustada [4]\n"
          ],
          "name": "stdout"
        },
        {
          "output_type": "display_data",
          "data": {
            "image/png": "[encoded data removed]",
            "text/plain": [
              "<Figure size 432x288 with 1 Axes>"
            ]
          },
          "metadata": {
            "tags": [],
            "needs_background": "light"
          }
        },
        {
          "output_type": "stream",
          "text": [
            "digite um valor entre 0 e 10000\n",
            "98\n",
            "Valor categorico em y_teste[indice] [0. 0. 0. 0. 0. 0. 1. 0. 0. 0.]\n",
            "Previsão : [[1.6555011e-13 8.9568608e-25 3.3460108e-20 1.1315706e-25 2.4377978e-21\n",
            "  5.6716199e-13 1.0000000e+00 4.1477316e-23 2.9908341e-19 6.4887646e-21]]\n",
            "Previsão ajustada [6]\n"
          ],
          "name": "stdout"
        },
        {
          "output_type": "display_data",
          "data": {
            "image/png": "[encoded data removed]",
            "text/plain": [
              "<Figure size 432x288 with 1 Axes>"
            ]
          },
          "metadata": {
            "tags": [],
            "needs_background": "light"
          }
        },
        {
          "output_type": "stream",
          "text": [
            "digite um valor entre 0 e 10000\n",
            "348\n",
            "Valor categorico em y_teste[indice] [0. 1. 0. 0. 0. 0. 0. 0. 0. 0.]\n",
            "Previsão : [[1.8925474e-16 1.0000000e+00 2.0453497e-11 3.8725173e-15 1.6499194e-12\n",
            "  2.2394872e-13 6.2474035e-09 4.0654296e-11 4.0819366e-09 4.0889004e-14]]\n",
            "Previsão ajustada [1]\n"
          ],
          "name": "stdout"
        },
        {
          "output_type": "display_data",
          "data": {
            "image/png": "[encoded data removed]",
            "text/plain": [
              "<Figure size 432x288 with 1 Axes>"
            ]
          },
          "metadata": {
            "tags": [],
            "needs_background": "light"
          }
        },
        {
          "output_type": "stream",
          "text": [
            "digite um valor entre 0 e 10000\n",
            "21\n",
            "Valor categorico em y_teste[indice] [0. 0. 0. 0. 0. 0. 1. 0. 0. 0.]\n",
            "Previsão : [[1.0630494e-16 3.2892808e-25 6.5203708e-23 5.6378868e-19 2.4484502e-21\n",
            "  1.5361372e-09 1.0000000e+00 4.7138858e-26 1.0730767e-15 1.2652290e-21]]\n",
            "Previsão ajustada [6]\n"
          ],
          "name": "stdout"
        },
        {
          "output_type": "display_data",
          "data": {
            "image/png": "[encoded data removed]",
            "text/plain": [
              "<Figure size 432x288 with 1 Axes>"
            ]
          },
          "metadata": {
            "tags": [],
            "needs_background": "light"
          }
        },
        {
          "output_type": "stream",
          "text": [
            "digite um valor entre 0 e 10000\n",
            "89\n",
            "Valor categorico em y_teste[indice] [0. 1. 0. 0. 0. 0. 0. 0. 0. 0.]\n",
            "Previsão : [[3.6761561e-16 9.9999964e-01 1.4507354e-10 5.0388067e-09 1.8077662e-08\n",
            "  5.5872802e-12 1.5313821e-10 6.6146248e-09 3.3517867e-07 3.5961319e-12]]\n",
            "Previsão ajustada [1]\n"
          ],
          "name": "stdout"
        },
        {
          "output_type": "display_data",
          "data": {
            "image/png": "[encoded data removed]",
            "text/plain": [
              "<Figure size 432x288 with 1 Axes>"
            ]
          },
          "metadata": {
            "tags": [],
            "needs_background": "light"
          }
        },
        {
          "output_type": "stream",
          "text": [
            "digite um valor entre 0 e 10000\n",
            "58\n",
            "Valor categorico em y_teste[indice] [0. 0. 0. 0. 0. 0. 0. 0. 0. 1.]\n",
            "Previsão : [[3.2625406e-31 1.6643386e-27 1.1041299e-20 1.7486994e-15 4.6403456e-10\n",
            "  3.6281664e-14 2.9047829e-34 2.5999263e-14 1.1999175e-19 1.0000000e+00]]\n",
            "Previsão ajustada [9]\n"
          ],
          "name": "stdout"
        },
        {
          "output_type": "display_data",
          "data": {
            "image/png": "[encoded data removed]",
            "text/plain": [
              "<Figure size 432x288 with 1 Axes>"
            ]
          },
          "metadata": {
            "tags": [],
            "needs_background": "light"
          }
        },
        {
          "output_type": "stream",
          "text": [
            "digite um valor entre 0 e 10000\n",
            "44\n",
            "Valor categorico em y_teste[indice] [0. 0. 0. 1. 0. 0. 0. 0. 0. 0.]\n",
            "Previsão : [[0.0000000e+00 3.4823813e-20 6.1087458e-18 1.0000000e+00 2.6823819e-24\n",
            "  8.6141954e-16 1.1364857e-31 1.5070531e-23 2.1774712e-22 1.0085856e-22]]\n",
            "Previsão ajustada [3]\n"
          ],
          "name": "stdout"
        },
        {
          "output_type": "display_data",
          "data": {
            "image/png": "[encoded data removed]",
            "text/plain": [
              "<Figure size 432x288 with 1 Axes>"
            ]
          },
          "metadata": {
            "tags": [],
            "needs_background": "light"
          }
        },
        {
          "output_type": "stream",
          "text": [
            "digite um valor entre 0 e 10000\n",
            "30\n",
            "Valor categorico em y_teste[indice] [0. 0. 0. 1. 0. 0. 0. 0. 0. 0.]\n",
            "Previsão : [[0.0000000e+00 4.7236148e-30 6.3404529e-31 1.0000000e+00 3.2393189e-35\n",
            "  9.4644020e-19 0.0000000e+00 6.1454603e-27 7.6358790e-26 1.3182142e-18]]\n",
            "Previsão ajustada [3]\n"
          ],
          "name": "stdout"
        },
        {
          "output_type": "display_data",
          "data": {
            "image/png": "[encoded data removed]",
            "text/plain": [
              "<Figure size 432x288 with 1 Axes>"
            ]
          },
          "metadata": {
            "tags": [],
            "needs_background": "light"
          }
        },
        {
          "output_type": "stream",
          "text": [
            "digite um valor entre 0 e 10000\n",
            "3333\n",
            "Valor categorico em y_teste[indice] [0. 0. 0. 0. 0. 0. 0. 1. 0. 0.]\n",
            "Previsão : [[4.1037450e-23 2.7584713e-13 7.0659985e-11 1.6499346e-06 4.2642932e-14\n",
            "  6.6994906e-15 3.4311702e-26 9.9999666e-01 3.9652001e-15 1.6401091e-06]]\n",
            "Previsão ajustada [7]\n"
          ],
          "name": "stdout"
        },
        {
          "output_type": "display_data",
          "data": {
            "image/png": "[encoded data removed]",
            "text/plain": [
              "<Figure size 432x288 with 1 Axes>"
            ]
          },
          "metadata": {
            "tags": [],
            "needs_background": "light"
          }
        },
        {
          "output_type": "stream",
          "text": [
            "digite um valor entre 0 e 10000\n",
            "-1\n"
          ],
          "name": "stdout"
        }
      ]
    },
    {
      "cell_type": "code",
      "metadata": {
        "id": "L4UEqjzwkW0C",
        "colab_type": "code",
        "colab": {}
      },
      "source": [
        ""
      ],
      "execution_count": 13,
      "outputs": []
    }
  ]
}